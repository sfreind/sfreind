{
  "cells": [
    {
      "cell_type": "markdown",
      "source": [
        "# Snake Water Gun Games"
      ],
      "metadata": {
        "id": "tAcviiJr56r_"
      }
    },
    {
      "cell_type": "code",
      "source": [
        "import random"
      ],
      "metadata": {
        "id": "RiICLoaw5-Bm"
      },
      "execution_count": 1,
      "outputs": []
    },
    {
      "cell_type": "code",
      "source": [
        "def gameWin(comp,you):\n",
        "  if comp == you:\n",
        "    return None\n",
        "  elif comp == 's':\n",
        "    if you =='w':\n",
        "      return False\n",
        "    elif you == 'g':\n",
        "      return True\n",
        "  elif comp == 'w':\n",
        "    if you== 'g':\n",
        "      return False\n",
        "    elif you == 's':\n",
        "      return True\n",
        "  elif comp == 'g':\n",
        "    if you== 's':\n",
        "      return False\n",
        "    elif you == 'w':\n",
        "      return True"
      ],
      "metadata": {
        "id": "NUtpcFds6Ek3"
      },
      "execution_count": 6,
      "outputs": []
    },
    {
      "cell_type": "code",
      "source": [
        "randNo = random.randint(1,3)\n",
        "if randNo == 1:\n",
        "  comp = 's'\n",
        "elif randNo == 2:\n",
        "  comp = 'w'\n",
        "elif randNo == 3:\n",
        "  comp = 'g'\n",
        "\n",
        "you = input(\"Your Turn: Snake(s) Water(w) or Gun(g)?\")\n",
        "print(\"Comp Turn: Snake(s) Water(w) or Gun(g)?\")\n",
        "\n",
        "gameWin(comp, you)\n",
        "\n",
        "a = gameWin(comp, you)\n",
        "\n",
        "print(f\"Computer chose {comp}\")\n",
        "print(f\"You chose {you}\")\n",
        "\n",
        "if a == None:\n",
        "    print(\"The Game is a tie!\")\n",
        "elif a:\n",
        "    print(\"You Win!\")\n",
        "else:\n",
        "    print(\"You Lose!\")"
      ],
      "metadata": {
        "id": "xS_9bat_6xEy",
        "outputId": "7281c9ea-0d3e-4009-f260-09c3f0c9a72b",
        "colab": {
          "base_uri": "https://localhost:8080/"
        }
      },
      "execution_count": 8,
      "outputs": [
        {
          "output_type": "stream",
          "name": "stdout",
          "text": [
            "Your Turn: Snake(s) Water(w) or Gun(g)?w\n",
            "Comp Turn: Snake(s) Water(w) or Gun(g)?\n",
            "Computer chose s\n",
            "You chose w\n",
            "You Lose!\n"
          ]
        }
      ]
    },
    {
      "cell_type": "code",
      "source": [],
      "metadata": {
        "id": "jEo70tVl64vv"
      },
      "execution_count": null,
      "outputs": []
    }
  ],
  "metadata": {
    "kernelspec": {
      "display_name": "Python 3",
      "language": "python",
      "name": "python3"
    },
    "language_info": {
      "codemirror_mode": {
        "name": "ipython",
        "version": 3
      },
      "file_extension": ".py",
      "mimetype": "text/x-python",
      "name": "python",
      "nbconvert_exporter": "python",
      "pygments_lexer": "ipython3",
      "version": "3.8.5"
    },
    "colab": {
      "provenance": []
    }
  },
  "nbformat": 4,
  "nbformat_minor": 0
}